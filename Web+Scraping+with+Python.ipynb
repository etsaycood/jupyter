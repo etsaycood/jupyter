{
 "cells": [
  {
   "cell_type": "markdown",
   "metadata": {},
   "source": [
    "# Web Scraping with Python\n",
    "https://www.safaribooksonline.com/library/view/web-scraping-with/9781491910283/ch01.html \n",
    "\n",
    "http://ithelp.ithome.com.tw/articles/10186119"
   ]
  },
  {
   "cell_type": "code",
   "execution_count": 2,
   "metadata": {
    "collapsed": false
   },
   "outputs": [
    {
     "name": "stdout",
     "output_type": "stream",
     "text": [
      "<html>\n",
      "<head>\n",
      "<title>A Useful Page</title>\n",
      "</head>\n",
      "<body>\n",
      "<h1>An Interesting Title</h1>\n",
      "<div>\n",
      "Lorem ipsum dolor sit amet, consectetur adipisicing elit, sed do eiusmod tempor incididunt ut labore et dolore magna aliqua. Ut enim ad minim veniam, quis nostrud exercitation ullamco laboris nisi ut aliquip ex ea commodo consequat. Duis aute irure dolor in reprehenderit in voluptate velit esse cillum dolore eu fugiat nulla pariatur. Excepteur sint occaecat cupidatat non proident, sunt in culpa qui officia deserunt mollit anim id est laborum.\n",
      "</div>\n",
      "</body>\n",
      "</html>\n",
      "\n"
     ]
    }
   ],
   "source": [
    "from urllib.request import urlopen\n",
    "from bs4 import BeautifulSoup\n",
    "html = urlopen(\"http://www.pythonscraping.com/pages/page1.html\")\n",
    "bsobj = BeautifulSoup(html.read(), \"lxml\")\n",
    "print(bsobj)"
   ]
  },
  {
   "cell_type": "code",
   "execution_count": 3,
   "metadata": {
    "collapsed": false
   },
   "outputs": [
    {
     "name": "stdout",
     "output_type": "stream",
     "text": [
      "<h1>An Interesting Title</h1>\n"
     ]
    }
   ],
   "source": [
    "from urllib.request import urlopen\n",
    "from bs4 import BeautifulSoup\n",
    "html = urlopen(\"http://www.pythonscraping.com/pages/page1.html\")\n",
    "bsobj = BeautifulSoup(html.read(), \"lxml\")\n",
    "print(bsobj.h1)"
   ]
  },
  {
   "cell_type": "markdown",
   "metadata": {},
   "source": [
    "# When Error print not be found"
   ]
  },
  {
   "cell_type": "code",
   "execution_count": 13,
   "metadata": {
    "collapsed": false
   },
   "outputs": [
    {
     "name": "stdout",
     "output_type": "stream",
     "text": [
      "Title could not be found\n"
     ]
    }
   ],
   "source": [
    "from urllib.request import urlopen\n",
    "from urllib.error import HTTPError\n",
    "from bs4 import BeautifulSoup\n",
    "def getTitle(url):\n",
    "    try:\n",
    "        html = urlopen(url)\n",
    "    except HTTPError as e:\n",
    "        return None\n",
    "    try:\n",
    "        bsObj = BeautifulSoup(html.read(), \"lxml\")\n",
    "        title = bsObj.body.h1\n",
    "    except AttributeError as e:\n",
    "        return None\n",
    "    return title\n",
    "title = getTitle(\"http://www.pythonscraping.com/exercises/exercise.html\")\n",
    "if title == None:\n",
    "    print(\"Title could not be found\")\n",
    "else:\n",
    "    print(title)"
   ]
  },
  {
   "cell_type": "code",
   "execution_count": 14,
   "metadata": {
    "collapsed": false
   },
   "outputs": [
    {
     "name": "stdout",
     "output_type": "stream",
     "text": [
      "<h1>An Interesting Title</h1>\n"
     ]
    }
   ],
   "source": [
    "from urllib.request import urlopen\n",
    "from urllib.error import HTTPError\n",
    "from bs4 import BeautifulSoup\n",
    "def getTitle(url):\n",
    "    try:\n",
    "        html = urlopen(url)\n",
    "    except HTTPError as e:\n",
    "        return None\n",
    "    try:\n",
    "        bsObj = BeautifulSoup(html.read(), \"lxml\")\n",
    "        title = bsObj.body.h1\n",
    "    except AttributeError as e:\n",
    "        return None\n",
    "    return title\n",
    "title = getTitle(\"http://www.pythonscraping.com/exercises/exercise1.html\")\n",
    "if title == None:\n",
    "    print(\"Title could not be found\")\n",
    "else:\n",
    "    print(title)"
   ]
  },
  {
   "cell_type": "markdown",
   "metadata": {},
   "source": [
    "# findAll() with BeautifulSoup\n",
    "findAll(tag, attributes, recursive, text, limit, keywords)\n",
    "\n"
   ]
  },
  {
   "cell_type": "code",
   "execution_count": 37,
   "metadata": {
    "collapsed": false,
    "scrolled": true
   },
   "outputs": [],
   "source": [
    "from urllib.request import urlopen\n",
    "from bs4 import BeautifulSoup\n",
    "html = urlopen(\"http://www.pythonscraping.com/pages/warandpeace.html\")\n",
    "bsobj = BeautifulSoup(html.read(), \"lxml\")"
   ]
  },
  {
   "cell_type": "code",
   "execution_count": 33,
   "metadata": {
    "collapsed": false,
    "scrolled": true
   },
   "outputs": [
    {
     "name": "stdout",
     "output_type": "stream",
     "text": [
      "Anna\n",
      "Pavlovna Scherer\n",
      "Empress Marya\n",
      "Fedorovna\n",
      "Prince Vasili Kuragin\n",
      "Anna Pavlovna\n",
      "St. Petersburg\n",
      "the prince\n",
      "Anna Pavlovna\n",
      "Anna Pavlovna\n",
      "the prince\n",
      "the prince\n",
      "the prince\n",
      "Prince Vasili\n",
      "Anna Pavlovna\n",
      "Anna Pavlovna\n",
      "the prince\n",
      "Wintzingerode\n",
      "King of Prussia\n",
      "le Vicomte de Mortemart\n",
      "Montmorencys\n",
      "Rohans\n",
      "Abbe Morio\n",
      "the Emperor\n",
      "the prince\n",
      "Prince Vasili\n",
      "Dowager Empress Marya Fedorovna\n",
      "the baron\n",
      "Anna Pavlovna\n",
      "the Empress\n",
      "the Empress\n",
      "Anna Pavlovna's\n",
      "Her Majesty\n",
      "Baron\n",
      "Funke\n",
      "The prince\n",
      "Anna\n",
      "Pavlovna\n",
      "the Empress\n",
      "The prince\n",
      "Anatole\n",
      "the prince\n",
      "The prince\n",
      "Anna\n",
      "Pavlovna\n",
      "Anna Pavlovna\n"
     ]
    }
   ],
   "source": [
    "nameList = bsobj.findAll(\"span\", {\"class\":\"green\"})\n",
    "for name in nameList:\n",
    "    print(name.get_text())"
   ]
  },
  {
   "cell_type": "markdown",
   "metadata": {},
   "source": [
    "# next_siblings 平輩\n",
    "# previous_sibling 親代\n",
    "1.找img1.jpg 2.找parent 3.印出previous_sibling.get_text()\n",
    "\n",
    "\n"
   ]
  },
  {
   "cell_type": "code",
   "execution_count": 43,
   "metadata": {
    "collapsed": false
   },
   "outputs": [
    {
     "name": "stdout",
     "output_type": "stream",
     "text": [
      "\n",
      "$15.00\n",
      "\n"
     ]
    }
   ],
   "source": [
    "from urllib.request import urlopen\n",
    "from bs4 import BeautifulSoup\n",
    "\n",
    "html = urlopen(\"http://www.pythonscraping.com/pages/page3.html\")\n",
    "bsObj = BeautifulSoup(html, \"lxml\")\n",
    "print(bsObj.find(\"img\",{\"src\":\"../img/gifts/img1.jpg\"}).parent.previous_sibling.get_text())"
   ]
  },
  {
   "cell_type": "code",
   "execution_count": 54,
   "metadata": {
    "collapsed": false,
    "scrolled": true
   },
   "outputs": [
    {
     "name": "stdout",
     "output_type": "stream",
     "text": [
      "<!DOCTYPE html>\n",
      "<html>\n",
      " <head>\n",
      "  <meta charset=\"utf-8\"/>\n",
      "  <meta content=\"width=device-width, initial-scale=1\" name=\"viewport\"/>\n",
      "  <title>\n",
      "   看板 NBA 文章列表 - 批踢踢實業坊\n",
      "  </title>\n",
      "  <link href=\"//images.ptt.cc/bbs/v2.22/bbs-common.css\" rel=\"stylesheet\" type=\"text/css\"/>\n",
      "  <link href=\"//images.ptt.cc/bbs/v2.22/bbs-base.css\" media=\"screen\" rel=\"stylesheet\" type=\"text/css\"/>\n",
      "  <link href=\"//images.ptt.cc/bbs/v2.22/bbs-custom.css\" rel=\"stylesheet\" type=\"text/css\"/>\n",
      "  <link href=\"//images.ptt.cc/bbs/v2.22/pushstream.css\" media=\"screen\" rel=\"stylesheet\" type=\"text/css\"/>\n",
      "  <link href=\"//images.ptt.cc/bbs/v2.22/bbs-print.css\" media=\"print\" rel=\"stylesheet\" type=\"text/css\"/>\n",
      " </head>\n",
      " <body>\n",
      "  <div id=\"topbar-container\">\n",
      "   <div class=\"bbs-content\" id=\"topbar\">\n",
      "    <a href=\"/\" id=\"logo\">\n",
      "     批踢踢實業坊\n",
      "    </a>\n",
      "    <span>\n",
      "     ›\n",
      "    </span>\n",
      "    <a class=\"board\" href=\"/bbs/NBA/index.html\">\n",
      "     <span class=\"board-label\">\n",
      "      看板\n",
      "     </span>\n",
      "     NBA\n",
      "    </a>\n",
      "    <a class=\"right small\" href=\"/about.html\">\n",
      "     關於我們\n",
      "    </a>\n",
      "    <a class=\"right small\" href=\"/contact.html\">\n",
      "     聯絡資訊\n",
      "    </a>\n",
      "   </div>\n",
      "  </div>\n",
      "  <div id=\"main-container\">\n",
      "   <div id=\"action-bar-container\">\n",
      "    <div class=\"action-bar\">\n",
      "     <div class=\"btn-group btn-group-dir\">\n",
      "      <a class=\"btn selected\" href=\"/bbs/NBA/index.html\">\n",
      "       看板\n",
      "      </a>\n",
      "      <a class=\"btn\" href=\"/man/NBA/index.html\">\n",
      "       精華區\n",
      "      </a>\n",
      "     </div>\n",
      "     <div class=\"btn-group btn-group-paging\">\n",
      "      <a class=\"btn wide\" href=\"/bbs/NBA/index1.html\">\n",
      "       最舊\n",
      "      </a>\n",
      "      <a class=\"btn wide\" href=\"/bbs/NBA/index5132.html\">\n",
      "       ‹ 上頁\n",
      "      </a>\n",
      "      <a class=\"btn wide disabled\">\n",
      "       下頁 ›\n",
      "      </a>\n",
      "      <a class=\"btn wide\" href=\"/bbs/NBA/index.html\">\n",
      "       最新\n",
      "      </a>\n",
      "     </div>\n",
      "    </div>\n",
      "   </div>\n",
      "   <div class=\"r-list-container action-bar-margin bbs-screen\">\n",
      "    <div class=\"r-ent\">\n",
      "     <div class=\"nrec\">\n",
      "      <span class=\"hl f3\">\n",
      "       40\n",
      "      </span>\n",
      "     </div>\n",
      "     <div class=\"mark\">\n",
      "     </div>\n",
      "     <div class=\"title\">\n",
      "      <a href=\"/bbs/NBA/M.1501157470.A.FCC.html\">\n",
      "       [討論] 關於Gasol跟馬刺簽約的個人看法\n",
      "      </a>\n",
      "     </div>\n",
      "     <div class=\"meta\">\n",
      "      <div class=\"date\">\n",
      "       7/27\n",
      "      </div>\n",
      "      <div class=\"author\">\n",
      "       br3b02\n",
      "      </div>\n",
      "     </div>\n",
      "    </div>\n",
      "    <div class=\"r-ent\">\n",
      "     <div class=\"nrec\">\n",
      "      <span class=\"hl f2\">\n",
      "       2\n",
      "      </span>\n",
      "     </div>\n",
      "     <div class=\"mark\">\n",
      "     </div>\n",
      "     <div class=\"title\">\n",
      "      <a href=\"/bbs/NBA/M.1501160596.A.762.html\">\n",
      "       Re: [花邊] Barkley：組團再多冠也一樣，Nowitzki完\n",
      "      </a>\n",
      "     </div>\n",
      "     <div class=\"meta\">\n",
      "      <div class=\"date\">\n",
      "       7/27\n",
      "      </div>\n",
      "      <div class=\"author\">\n",
      "       backere0720\n",
      "      </div>\n",
      "     </div>\n",
      "    </div>\n",
      "    <div class=\"r-ent\">\n",
      "     <div class=\"nrec\">\n",
      "      <span class=\"hl f2\">\n",
      "       3\n",
      "      </span>\n",
      "     </div>\n",
      "     <div class=\"mark\">\n",
      "     </div>\n",
      "     <div class=\"title\">\n",
      "      <a href=\"/bbs/NBA/M.1501160880.A.1EB.html\">\n",
      "       [花邊] NBA》 「別碰卡戴珊家族！」 湖人前輩給\n",
      "      </a>\n",
      "     </div>\n",
      "     <div class=\"meta\">\n",
      "      <div class=\"date\">\n",
      "       7/27\n",
      "      </div>\n",
      "      <div class=\"author\">\n",
      "       lovea\n",
      "      </div>\n",
      "     </div>\n",
      "    </div>\n",
      "    <div class=\"r-ent\">\n",
      "     <div class=\"nrec\">\n",
      "      <span class=\"hl f3\">\n",
      "       12\n",
      "      </span>\n",
      "     </div>\n",
      "     <div class=\"mark\">\n",
      "     </div>\n",
      "     <div class=\"title\">\n",
      "      <a href=\"/bbs/NBA/M.1501161027.A.5BC.html\">\n",
      "       Re: [討論] 關於Gasol跟馬刺簽約的個人看法\n",
      "      </a>\n",
      "     </div>\n",
      "     <div class=\"meta\">\n",
      "      <div class=\"date\">\n",
      "       7/27\n",
      "      </div>\n",
      "      <div class=\"author\">\n",
      "       rfvtgb\n",
      "      </div>\n",
      "     </div>\n",
      "    </div>\n",
      "    <div class=\"r-ent\">\n",
      "     <div class=\"nrec\">\n",
      "     </div>\n",
      "     <div class=\"mark\">\n",
      "     </div>\n",
      "     <div class=\"title\">\n",
      "      <a href=\"/bbs/NBA/M.1501161526.A.979.html\">\n",
      "       [討論] Irving開始走下坡了嗎\n",
      "      </a>\n",
      "     </div>\n",
      "     <div class=\"meta\">\n",
      "      <div class=\"date\">\n",
      "       7/27\n",
      "      </div>\n",
      "      <div class=\"author\">\n",
      "       KevinLove\n",
      "      </div>\n",
      "     </div>\n",
      "    </div>\n",
      "    <div class=\"r-list-sep\">\n",
      "    </div>\n",
      "    <div class=\"r-ent\">\n",
      "     <div class=\"nrec\">\n",
      "     </div>\n",
      "     <div class=\"mark\">\n",
      "      !\n",
      "     </div>\n",
      "     <div class=\"title\">\n",
      "      <a href=\"/bbs/NBA/M.1480648734.A.D28.html\">\n",
      "       [公告] 板規6.1\n",
      "      </a>\n",
      "     </div>\n",
      "     <div class=\"meta\">\n",
      "      <div class=\"date\">\n",
      "       12/02\n",
      "      </div>\n",
      "      <div class=\"author\">\n",
      "       kadasaki\n",
      "      </div>\n",
      "     </div>\n",
      "    </div>\n",
      "    <div class=\"r-ent\">\n",
      "     <div class=\"nrec\">\n",
      "      <span class=\"hl f1\">\n",
      "       爆\n",
      "      </span>\n",
      "     </div>\n",
      "     <div class=\"mark\">\n",
      "     </div>\n",
      "     <div class=\"title\">\n",
      "      <a href=\"/bbs/NBA/M.1478497499.A.150.html\">\n",
      "       [公告] 違規檢舉區\n",
      "      </a>\n",
      "     </div>\n",
      "     <div class=\"meta\">\n",
      "      <div class=\"date\">\n",
      "       11/07\n",
      "      </div>\n",
      "      <div class=\"author\">\n",
      "       kadasaki\n",
      "      </div>\n",
      "     </div>\n",
      "    </div>\n",
      "    <div class=\"r-ent\">\n",
      "     <div class=\"nrec\">\n",
      "      <span class=\"hl f3\">\n",
      "       13\n",
      "      </span>\n",
      "     </div>\n",
      "     <div class=\"mark\">\n",
      "      M\n",
      "     </div>\n",
      "     <div class=\"title\">\n",
      "      <a href=\"/bbs/NBA/M.1486126665.A.D3C.html\">\n",
      "       [情報] 2016-2017 BIG3每周二上午八點\n",
      "      </a>\n",
      "     </div>\n",
      "     <div class=\"meta\">\n",
      "      <div class=\"date\">\n",
      "       2/03\n",
      "      </div>\n",
      "      <div class=\"author\">\n",
      "       gap6060\n",
      "      </div>\n",
      "     </div>\n",
      "    </div>\n",
      "    <div class=\"r-ent\">\n",
      "     <div class=\"nrec\">\n",
      "      <span class=\"hl f1\">\n",
      "       爆\n",
      "      </span>\n",
      "     </div>\n",
      "     <div class=\"mark\">\n",
      "     </div>\n",
      "     <div class=\"title\">\n",
      "      <a href=\"/bbs/NBA/M.1498032247.A.C30.html\">\n",
      "       [情報] 2017-18 自由球員市場異動整理表 (7/26)\n",
      "      </a>\n",
      "     </div>\n",
      "     <div class=\"meta\">\n",
      "      <div class=\"date\">\n",
      "       6/21\n",
      "      </div>\n",
      "      <div class=\"author\">\n",
      "       laigei\n",
      "      </div>\n",
      "     </div>\n",
      "    </div>\n",
      "    <div class=\"r-ent\">\n",
      "     <div class=\"nrec\">\n",
      "      <span class=\"hl f3\">\n",
      "       72\n",
      "      </span>\n",
      "     </div>\n",
      "     <div class=\"mark\">\n",
      "      M\n",
      "     </div>\n",
      "     <div class=\"title\">\n",
      "      <a href=\"/bbs/NBA/M.1498617800.A.690.html\">\n",
      "       [情報] 2017-18 自由球員市場異動 (逐日文字版)\n",
      "      </a>\n",
      "     </div>\n",
      "     <div class=\"meta\">\n",
      "      <div class=\"date\">\n",
      "       6/28\n",
      "      </div>\n",
      "      <div class=\"author\">\n",
      "       laigei\n",
      "      </div>\n",
      "     </div>\n",
      "    </div>\n",
      "   </div>\n",
      "  </div>\n",
      "  <script>\n",
      "   (function(i,s,o,g,r,a,m){i['GoogleAnalyticsObject']=r;i[r]=i[r]||function(){\n",
      "  (i[r].q=i[r].q||[]).push(arguments)},i[r].l=1*new Date();a=s.createElement(o),\n",
      "  m=s.getElementsByTagName(o)[0];a.async=1;a.src=g;m.parentNode.insertBefore(a,m)\n",
      "  })(window,document,'script','https://www.google-analytics.com/analytics.js','ga');\n",
      "\n",
      "  ga('create', 'UA-32365737-1', {\n",
      "    cookieDomain: 'ptt.cc',\n",
      "    legacyCookieDomain: 'ptt.cc'\n",
      "  });\n",
      "  ga('send', 'pageview');\n",
      "  </script>\n",
      "  <script src=\"//ajax.googleapis.com/ajax/libs/jquery/2.1.1/jquery.min.js\">\n",
      "  </script>\n",
      "  <script src=\"//images.ptt.cc/bbs/v2.22/bbs.js\">\n",
      "  </script>\n",
      " </body>\n",
      "</html>\n",
      "\n"
     ]
    }
   ],
   "source": [
    "import requests as rq\n",
    "from bs4 import BeautifulSoup\n",
    "\n",
    "url = \"https://www.ptt.cc/bbs/NBA/index.html\" # PTT NBA 板\n",
    "response = rq.get(url) # 用 requests 的 get 方法把網頁抓下來\n",
    "html_doc = response.text # text 屬性就是 html 檔案\n",
    "soup = BeautifulSoup(response.text, \"lxml\") # 指定 lxml 作為解析器\n",
    "print(soup.prettify()) # 把排版後的 html 印出來"
   ]
  },
  {
   "cell_type": "code",
   "execution_count": 56,
   "metadata": {
    "collapsed": false
   },
   "outputs": [
    {
     "name": "stdout",
     "output_type": "stream",
     "text": [
      "<title>看板 NBA 文章列表 - 批踢踢實業坊</title>\n",
      "---\n",
      "title\n",
      "---\n",
      "看板 NBA 文章列表 - 批踢踢實業坊\n",
      "---\n",
      "head\n",
      "---\n",
      "<a href=\"/\" id=\"logo\">批踢踢實業坊</a>\n",
      "---\n",
      "[<a href=\"/\" id=\"logo\">批踢踢實業坊</a>, <a class=\"board\" href=\"/bbs/NBA/index.html\"><span class=\"board-label\">看板 </span>NBA</a>, <a class=\"right small\" href=\"/about.html\">關於我們</a>, <a class=\"right small\" href=\"/contact.html\">聯絡資訊</a>, <a class=\"btn selected\" href=\"/bbs/NBA/index.html\">看板</a>, <a class=\"btn\" href=\"/man/NBA/index.html\">精華區</a>, <a class=\"btn wide\" href=\"/bbs/NBA/index1.html\">最舊</a>, <a class=\"btn wide\" href=\"/bbs/NBA/index5132.html\">‹ 上頁</a>, <a class=\"btn wide disabled\">下頁 ›</a>, <a class=\"btn wide\" href=\"/bbs/NBA/index.html\">最新</a>, <a href=\"/bbs/NBA/M.1501157470.A.FCC.html\">[討論] 關於Gasol跟馬刺簽約的個人看法</a>, <a href=\"/bbs/NBA/M.1501160596.A.762.html\">Re: [花邊] Barkley：組團再多冠也一樣，Nowitzki完</a>, <a href=\"/bbs/NBA/M.1501160880.A.1EB.html\">[花邊] NBA》 「別碰卡戴珊家族！」 湖人前輩給</a>, <a href=\"/bbs/NBA/M.1501161027.A.5BC.html\">Re: [討論] 關於Gasol跟馬刺簽約的個人看法</a>, <a href=\"/bbs/NBA/M.1501161526.A.979.html\">[討論] Irving開始走下坡了嗎</a>, <a href=\"/bbs/NBA/M.1480648734.A.D28.html\">[公告] 板規6.1</a>, <a href=\"/bbs/NBA/M.1478497499.A.150.html\">[公告] 違規檢舉區</a>, <a href=\"/bbs/NBA/M.1486126665.A.D3C.html\">[情報] 2016-2017 BIG3每周二上午八點</a>, <a href=\"/bbs/NBA/M.1498032247.A.C30.html\">[情報] 2017-18 自由球員市場異動整理表 (7/26)</a>, <a href=\"/bbs/NBA/M.1498617800.A.690.html\">[情報] 2017-18 自由球員市場異動 (逐日文字版)</a>]\n",
      "---\n",
      "a\n",
      "---\n",
      "logo\n",
      "---\n",
      "<class 'bs4.element.NavigableString'>\n",
      "---\n"
     ]
    },
    {
     "data": {
      "text/plain": [
       "'批踢踢實業坊'"
      ]
     },
     "execution_count": 56,
     "metadata": {},
     "output_type": "execute_result"
    }
   ],
   "source": [
    "print(soup.title) # 把 tag 抓出來\n",
    "print(\"---\")\n",
    "print(soup.title.name) # 把 title 的 tag 名稱抓出來\n",
    "print(\"---\")\n",
    "print(soup.title.string) # 把 title tag 的內容欻出來\n",
    "print(\"---\")\n",
    "print(soup.title.parent.name) # title tag 的上一層 tag\n",
    "print(\"---\")\n",
    "print(soup.a) # 把第一個 <a></a> 抓出來\n",
    "print(\"---\")\n",
    "print(soup.find_all('a')) # 把所有的 <a></a> 抓出來\n",
    "print(\"---\")\n",
    "print(soup.a.name) # 抓標籤名 a\n",
    "print(\"---\")\n",
    "print(soup.a['id']) # 抓<a></a>的 id 名稱\n",
    "print(\"---\")\n",
    "print(type(soup.a.string))\n",
    "print(\"---\")\n",
    "soup.a.string"
   ]
  },
  {
   "cell_type": "markdown",
   "metadata": {},
   "source": [
    "contents 屬性\n",
    "children 屬性\n",
    "string 屬性"
   ]
  },
  {
   "cell_type": "code",
   "execution_count": 57,
   "metadata": {
    "collapsed": false
   },
   "outputs": [
    {
     "name": "stdout",
     "output_type": "stream",
     "text": [
      "['批踢踢實業坊']\n",
      "['批踢踢實業坊']\n",
      "批踢踢實業坊\n"
     ]
    }
   ],
   "source": [
    "print(soup.body.a.contents)\n",
    "print(list(soup.body.a.children))\n",
    "print(soup.body.a.string)"
   ]
  },
  {
   "cell_type": "code",
   "execution_count": 59,
   "metadata": {
    "collapsed": false
   },
   "outputs": [
    {
     "name": "stdout",
     "output_type": "stream",
     "text": [
      "<title>看板 NBA 文章列表 - 批踢踢實業坊</title>\n",
      "---\n",
      "<head>\n",
      "<meta charset=\"utf-8\"/>\n",
      "<meta content=\"width=device-width, initial-scale=1\" name=\"viewport\"/>\n",
      "<title>看板 NBA 文章列表 - 批踢踢實業坊</title>\n",
      "<link href=\"//images.ptt.cc/bbs/v2.22/bbs-common.css\" rel=\"stylesheet\" type=\"text/css\"/>\n",
      "<link href=\"//images.ptt.cc/bbs/v2.22/bbs-base.css\" media=\"screen\" rel=\"stylesheet\" type=\"text/css\"/>\n",
      "<link href=\"//images.ptt.cc/bbs/v2.22/bbs-custom.css\" rel=\"stylesheet\" type=\"text/css\"/>\n",
      "<link href=\"//images.ptt.cc/bbs/v2.22/pushstream.css\" media=\"screen\" rel=\"stylesheet\" type=\"text/css\"/>\n",
      "<link href=\"//images.ptt.cc/bbs/v2.22/bbs-print.css\" media=\"print\" rel=\"stylesheet\" type=\"text/css\"/>\n",
      "</head>\n"
     ]
    }
   ],
   "source": [
    "print(soup.title)\n",
    "print(\"---\")\n",
    "print(soup.title.parent)"
   ]
  },
  {
   "cell_type": "code",
   "execution_count": 60,
   "metadata": {
    "collapsed": false
   },
   "outputs": [
    {
     "name": "stdout",
     "output_type": "stream",
     "text": [
      "<a href=\"/\" id=\"logo\">批踢踢實業坊</a>\n",
      "---\n",
      "\n",
      "\n",
      "---\n",
      "<a href=\"/\" id=\"logo\">批踢踢實業坊</a>\n"
     ]
    }
   ],
   "source": [
    "first_a_tag = soup.body.a\n",
    "next_to_first_a_tag = first_a_tag.next_sibling\n",
    "print(first_a_tag)\n",
    "print(\"---\")\n",
    "print(next_to_first_a_tag)\n",
    "print(\"---\")\n",
    "print(next_to_first_a_tag.previous_sibling)"
   ]
  },
  {
   "cell_type": "code",
   "execution_count": 61,
   "metadata": {
    "collapsed": false
   },
   "outputs": [
    {
     "name": "stdout",
     "output_type": "stream",
     "text": [
      "<a href=\"/\" id=\"logo\">批踢踢實業坊</a>\n",
      "---\n",
      "[<a href=\"/\" id=\"logo\">批踢踢實業坊</a>, <a class=\"board\" href=\"/bbs/NBA/index.html\"><span class=\"board-label\">看板 </span>NBA</a>, <a class=\"right small\" href=\"/about.html\">關於我們</a>, <a class=\"right small\" href=\"/contact.html\">聯絡資訊</a>, <a class=\"btn selected\" href=\"/bbs/NBA/index.html\">看板</a>, <a class=\"btn\" href=\"/man/NBA/index.html\">精華區</a>, <a class=\"btn wide\" href=\"/bbs/NBA/index1.html\">最舊</a>, <a class=\"btn wide\" href=\"/bbs/NBA/index5132.html\">‹ 上頁</a>, <a class=\"btn wide disabled\">下頁 ›</a>, <a class=\"btn wide\" href=\"/bbs/NBA/index.html\">最新</a>, <a href=\"/bbs/NBA/M.1501157470.A.FCC.html\">[討論] 關於Gasol跟馬刺簽約的個人看法</a>, <a href=\"/bbs/NBA/M.1501160596.A.762.html\">Re: [花邊] Barkley：組團再多冠也一樣，Nowitzki完</a>, <a href=\"/bbs/NBA/M.1501160880.A.1EB.html\">[花邊] NBA》 「別碰卡戴珊家族！」 湖人前輩給</a>, <a href=\"/bbs/NBA/M.1501161027.A.5BC.html\">Re: [討論] 關於Gasol跟馬刺簽約的個人看法</a>, <a href=\"/bbs/NBA/M.1501161526.A.979.html\">[討論] Irving開始走下坡了嗎</a>, <a href=\"/bbs/NBA/M.1480648734.A.D28.html\">[公告] 板規6.1</a>, <a href=\"/bbs/NBA/M.1478497499.A.150.html\">[公告] 違規檢舉區</a>, <a href=\"/bbs/NBA/M.1486126665.A.D3C.html\">[情報] 2016-2017 BIG3每周二上午八點</a>, <a href=\"/bbs/NBA/M.1498032247.A.C30.html\">[情報] 2017-18 自由球員市場異動整理表 (7/26)</a>, <a href=\"/bbs/NBA/M.1498617800.A.690.html\">[情報] 2017-18 自由球員市場異動 (逐日文字版)</a>]\n"
     ]
    }
   ],
   "source": [
    "print(soup.find(\"a\")) # 第一個 <a></a>\n",
    "print(\"---\")\n",
    "print(soup.find_all(\"a\")) # 全部 <a></a>"
   ]
  },
  {
   "cell_type": "code",
   "execution_count": 62,
   "metadata": {
    "collapsed": false
   },
   "outputs": [
    {
     "name": "stdout",
     "output_type": "stream",
     "text": [
      "<div class=\"r-ent\">\n",
      "<div class=\"nrec\"><span class=\"hl f3\">40</span></div>\n",
      "<div class=\"mark\"></div>\n",
      "<div class=\"title\">\n",
      "<a href=\"/bbs/NBA/M.1501157470.A.FCC.html\">[討論] 關於Gasol跟馬刺簽約的個人看法</a>\n",
      "</div>\n",
      "<div class=\"meta\">\n",
      "<div class=\"date\"> 7/27</div>\n",
      "<div class=\"author\">br3b02</div>\n",
      "</div>\n",
      "</div>\n"
     ]
    }
   ],
   "source": [
    "print(soup.find(\"div\", class_= \"r-ent\"))"
   ]
  },
  {
   "cell_type": "code",
   "execution_count": 63,
   "metadata": {
    "collapsed": false
   },
   "outputs": [
    {
     "name": "stdout",
     "output_type": "stream",
     "text": [
      "[<div class=\"r-ent\">\n",
      "<div class=\"nrec\"><span class=\"hl f3\">40</span></div>\n",
      "<div class=\"mark\"></div>\n",
      "<div class=\"title\">\n",
      "<a href=\"/bbs/NBA/M.1501157470.A.FCC.html\">[討論] 關於Gasol跟馬刺簽約的個人看法</a>\n",
      "</div>\n",
      "<div class=\"meta\">\n",
      "<div class=\"date\"> 7/27</div>\n",
      "<div class=\"author\">br3b02</div>\n",
      "</div>\n",
      "</div>, <div class=\"r-ent\">\n",
      "<div class=\"nrec\"><span class=\"hl f2\">2</span></div>\n",
      "<div class=\"mark\"></div>\n",
      "<div class=\"title\">\n",
      "<a href=\"/bbs/NBA/M.1501160596.A.762.html\">Re: [花邊] Barkley：組團再多冠也一樣，Nowitzki完</a>\n",
      "</div>\n",
      "<div class=\"meta\">\n",
      "<div class=\"date\"> 7/27</div>\n",
      "<div class=\"author\">backere0720</div>\n",
      "</div>\n",
      "</div>, <div class=\"r-ent\">\n",
      "<div class=\"nrec\"><span class=\"hl f2\">3</span></div>\n",
      "<div class=\"mark\"></div>\n",
      "<div class=\"title\">\n",
      "<a href=\"/bbs/NBA/M.1501160880.A.1EB.html\">[花邊] NBA》 「別碰卡戴珊家族！」 湖人前輩給</a>\n",
      "</div>\n",
      "<div class=\"meta\">\n",
      "<div class=\"date\"> 7/27</div>\n",
      "<div class=\"author\">lovea</div>\n",
      "</div>\n",
      "</div>, <div class=\"r-ent\">\n",
      "<div class=\"nrec\"><span class=\"hl f3\">12</span></div>\n",
      "<div class=\"mark\"></div>\n",
      "<div class=\"title\">\n",
      "<a href=\"/bbs/NBA/M.1501161027.A.5BC.html\">Re: [討論] 關於Gasol跟馬刺簽約的個人看法</a>\n",
      "</div>\n",
      "<div class=\"meta\">\n",
      "<div class=\"date\"> 7/27</div>\n",
      "<div class=\"author\">rfvtgb</div>\n",
      "</div>\n",
      "</div>, <div class=\"r-ent\">\n",
      "<div class=\"nrec\"></div>\n",
      "<div class=\"mark\"></div>\n",
      "<div class=\"title\">\n",
      "<a href=\"/bbs/NBA/M.1501161526.A.979.html\">[討論] Irving開始走下坡了嗎</a>\n",
      "</div>\n",
      "<div class=\"meta\">\n",
      "<div class=\"date\"> 7/27</div>\n",
      "<div class=\"author\">KevinLove</div>\n",
      "</div>\n",
      "</div>, <div class=\"r-ent\">\n",
      "<div class=\"nrec\"></div>\n",
      "<div class=\"mark\">!</div>\n",
      "<div class=\"title\">\n",
      "<a href=\"/bbs/NBA/M.1480648734.A.D28.html\">[公告] 板規6.1</a>\n",
      "</div>\n",
      "<div class=\"meta\">\n",
      "<div class=\"date\">12/02</div>\n",
      "<div class=\"author\">kadasaki</div>\n",
      "</div>\n",
      "</div>, <div class=\"r-ent\">\n",
      "<div class=\"nrec\"><span class=\"hl f1\">爆</span></div>\n",
      "<div class=\"mark\"></div>\n",
      "<div class=\"title\">\n",
      "<a href=\"/bbs/NBA/M.1478497499.A.150.html\">[公告] 違規檢舉區</a>\n",
      "</div>\n",
      "<div class=\"meta\">\n",
      "<div class=\"date\">11/07</div>\n",
      "<div class=\"author\">kadasaki</div>\n",
      "</div>\n",
      "</div>, <div class=\"r-ent\">\n",
      "<div class=\"nrec\"><span class=\"hl f3\">13</span></div>\n",
      "<div class=\"mark\">M</div>\n",
      "<div class=\"title\">\n",
      "<a href=\"/bbs/NBA/M.1486126665.A.D3C.html\">[情報] 2016-2017 BIG3每周二上午八點</a>\n",
      "</div>\n",
      "<div class=\"meta\">\n",
      "<div class=\"date\"> 2/03</div>\n",
      "<div class=\"author\">gap6060</div>\n",
      "</div>\n",
      "</div>, <div class=\"r-ent\">\n",
      "<div class=\"nrec\"><span class=\"hl f1\">爆</span></div>\n",
      "<div class=\"mark\"></div>\n",
      "<div class=\"title\">\n",
      "<a href=\"/bbs/NBA/M.1498032247.A.C30.html\">[情報] 2017-18 自由球員市場異動整理表 (7/26)</a>\n",
      "</div>\n",
      "<div class=\"meta\">\n",
      "<div class=\"date\"> 6/21</div>\n",
      "<div class=\"author\">laigei</div>\n",
      "</div>\n",
      "</div>, <div class=\"r-ent\">\n",
      "<div class=\"nrec\"><span class=\"hl f3\">72</span></div>\n",
      "<div class=\"mark\">M</div>\n",
      "<div class=\"title\">\n",
      "<a href=\"/bbs/NBA/M.1498617800.A.690.html\">[情報] 2017-18 自由球員市場異動 (逐日文字版)</a>\n",
      "</div>\n",
      "<div class=\"meta\">\n",
      "<div class=\"date\"> 6/28</div>\n",
      "<div class=\"author\">laigei</div>\n",
      "</div>\n",
      "</div>]\n"
     ]
    },
    {
     "data": {
      "text/plain": [
       "bs4.element.ResultSet"
      ]
     },
     "execution_count": 63,
     "metadata": {},
     "output_type": "execute_result"
    }
   ],
   "source": [
    "posts = soup.find_all(\"div\", class_ = \"r-ent\")\n",
    "print(posts)\n",
    "type(posts)"
   ]
  },
  {
   "cell_type": "code",
   "execution_count": 64,
   "metadata": {
    "collapsed": false
   },
   "outputs": [
    {
     "name": "stdout",
     "output_type": "stream",
     "text": [
      "['br3b02', 'backere0720', 'lovea', 'rfvtgb', 'KevinLove', 'kadasaki', 'kadasaki', 'gap6060', 'laigei', 'laigei']\n"
     ]
    }
   ],
   "source": [
    "author_ids = [] # 建立一個空的 list 來放置作者 id\n",
    "posts = soup.find_all(\"div\", class_ = \"r-ent\")\n",
    "for post in posts:\n",
    "    author_ids.extend(post.find(\"div\", class_ = \"author\"))\n",
    "\n",
    "print(author_ids)"
   ]
  },
  {
   "cell_type": "code",
   "execution_count": 65,
   "metadata": {
    "collapsed": false
   },
   "outputs": [
    {
     "data": {
      "text/html": [
       "<div>\n",
       "<table border=\"1\" class=\"dataframe\">\n",
       "  <thead>\n",
       "    <tr style=\"text-align: right;\">\n",
       "      <th></th>\n",
       "      <th>author</th>\n",
       "      <th>date</th>\n",
       "      <th>recommends</th>\n",
       "      <th>title</th>\n",
       "    </tr>\n",
       "  </thead>\n",
       "  <tbody>\n",
       "    <tr>\n",
       "      <th>0</th>\n",
       "      <td>br3b02</td>\n",
       "      <td>7/27</td>\n",
       "      <td>42.0</td>\n",
       "      <td>[討論] 關於Gasol跟馬刺簽約的個人看法</td>\n",
       "    </tr>\n",
       "    <tr>\n",
       "      <th>1</th>\n",
       "      <td>backere0720</td>\n",
       "      <td>7/27</td>\n",
       "      <td>5.0</td>\n",
       "      <td>Re: [花邊] Barkley：組團再多冠也一樣，Nowitzki完</td>\n",
       "    </tr>\n",
       "    <tr>\n",
       "      <th>2</th>\n",
       "      <td>lovea</td>\n",
       "      <td>7/27</td>\n",
       "      <td>5.0</td>\n",
       "      <td>[花邊] NBA》 「別碰卡戴珊家族！」 湖人前輩給</td>\n",
       "    </tr>\n",
       "    <tr>\n",
       "      <th>3</th>\n",
       "      <td>rfvtgb</td>\n",
       "      <td>7/27</td>\n",
       "      <td>24.0</td>\n",
       "      <td>Re: [討論] 關於Gasol跟馬刺簽約的個人看法</td>\n",
       "    </tr>\n",
       "    <tr>\n",
       "      <th>4</th>\n",
       "      <td>KevinLove</td>\n",
       "      <td>7/27</td>\n",
       "      <td>NaN</td>\n",
       "      <td>[討論] Irving開始走下坡了嗎</td>\n",
       "    </tr>\n",
       "    <tr>\n",
       "      <th>5</th>\n",
       "      <td>kadasaki</td>\n",
       "      <td>12/02</td>\n",
       "      <td>NaN</td>\n",
       "      <td>[公告] 板規6.1</td>\n",
       "    </tr>\n",
       "    <tr>\n",
       "      <th>6</th>\n",
       "      <td>kadasaki</td>\n",
       "      <td>11/07</td>\n",
       "      <td>NaN</td>\n",
       "      <td>[公告] 違規檢舉區</td>\n",
       "    </tr>\n",
       "    <tr>\n",
       "      <th>7</th>\n",
       "      <td>gap6060</td>\n",
       "      <td>2/03</td>\n",
       "      <td>13.0</td>\n",
       "      <td>[情報] 2016-2017 BIG3每周二上午八點</td>\n",
       "    </tr>\n",
       "    <tr>\n",
       "      <th>8</th>\n",
       "      <td>laigei</td>\n",
       "      <td>6/21</td>\n",
       "      <td>NaN</td>\n",
       "      <td>[情報] 2017-18 自由球員市場異動整理表 (7/26)</td>\n",
       "    </tr>\n",
       "    <tr>\n",
       "      <th>9</th>\n",
       "      <td>laigei</td>\n",
       "      <td>6/28</td>\n",
       "      <td>72.0</td>\n",
       "      <td>[情報] 2017-18 自由球員市場異動 (逐日文字版)</td>\n",
       "    </tr>\n",
       "  </tbody>\n",
       "</table>\n",
       "</div>"
      ],
      "text/plain": [
       "        author   date  recommends                                title\n",
       "0       br3b02   7/27        42.0               [討論] 關於Gasol跟馬刺簽約的個人看法\n",
       "1  backere0720   7/27         5.0  Re: [花邊] Barkley：組團再多冠也一樣，Nowitzki完\n",
       "2        lovea   7/27         5.0           [花邊] NBA》 「別碰卡戴珊家族！」 湖人前輩給\n",
       "3       rfvtgb   7/27        24.0           Re: [討論] 關於Gasol跟馬刺簽約的個人看法\n",
       "4    KevinLove   7/27         NaN                   [討論] Irving開始走下坡了嗎\n",
       "5     kadasaki  12/02         NaN                           [公告] 板規6.1\n",
       "6     kadasaki  11/07         NaN                           [公告] 違規檢舉區\n",
       "7      gap6060   2/03        13.0           [情報] 2016-2017 BIG3每周二上午八點\n",
       "8       laigei   6/21         NaN      [情報] 2017-18 自由球員市場異動整理表 (7/26)\n",
       "9       laigei   6/28        72.0        [情報] 2017-18 自由球員市場異動 (逐日文字版)"
      ]
     },
     "execution_count": 65,
     "metadata": {},
     "output_type": "execute_result"
    }
   ],
   "source": [
    "import numpy as np\n",
    "import pandas as pd\n",
    "import requests as rq\n",
    "from bs4 import BeautifulSoup\n",
    "\n",
    "url = 'https://www.ptt.cc/bbs/NBA/index.html'\n",
    "response = rq.get(url)\n",
    "html_doc = response.text # text 屬性就是 html 檔案\n",
    "soup = BeautifulSoup(response.text, \"lxml\") # 指定 lxml 作為解析器\n",
    "\n",
    "author_ids = [] # 建立一個空的 list 來放作者 id\n",
    "recommends = [] # 建立一個空的 list 來放推文數\n",
    "post_titles = [] # 建立一個空的 list 來放文章標題\n",
    "post_dates = [] # 建立一個空的 list 來放發文日期\n",
    "\n",
    "posts = soup.find_all(\"div\", class_ = \"r-ent\")\n",
    "for post in posts:\n",
    "    try:\n",
    "        author_ids.append(post.find(\"div\", class_ = \"author\").string)    \n",
    "    except:\n",
    "        author_ids.append(np.nan)\n",
    "    try:\n",
    "        post_titles.append(post.find(\"a\").string)\n",
    "    except:\n",
    "        post_titles.append(np.nan)\n",
    "    try:\n",
    "        post_dates.append(post.find(\"div\", class_ = \"date\").string)\n",
    "    except:\n",
    "        post_dates.append(np.nan)\n",
    "\n",
    "# 推文數藏在 div 裡面的 span 所以分開處理\n",
    "recommendations = soup.find_all(\"div\", class_ = \"nrec\")\n",
    "for recommendation in recommendations:\n",
    "    try:\n",
    "        recommends.append(int(recommendation.find(\"span\").string))\n",
    "    except:\n",
    "        recommends.append(np.nan)\n",
    "        \n",
    "ptt_nba_dict = {\"author\": author_ids,\n",
    "                \"recommends\": recommends,\n",
    "                \"title\": post_titles,\n",
    "                \"date\": post_dates\n",
    "}\n",
    "\n",
    "ptt_nba_df = pd.DataFrame(ptt_nba_dict)\n",
    "ptt_nba_df"
   ]
  },
  {
   "cell_type": "code",
   "execution_count": null,
   "metadata": {
    "collapsed": true
   },
   "outputs": [],
   "source": []
  }
 ],
 "metadata": {
  "kernelspec": {
   "display_name": "Python 3",
   "language": "python",
   "name": "python3"
  },
  "language_info": {
   "codemirror_mode": {
    "name": "ipython",
    "version": 3
   },
   "file_extension": ".py",
   "mimetype": "text/x-python",
   "name": "python",
   "nbconvert_exporter": "python",
   "pygments_lexer": "ipython3",
   "version": "3.6.0"
  }
 },
 "nbformat": 4,
 "nbformat_minor": 2
}
